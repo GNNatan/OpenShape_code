{
 "cells": [
  {
   "cell_type": "code",
   "execution_count": 2,
   "metadata": {},
   "outputs": [],
   "source": [
    "import numpy as np\n",
    "import open3d as o3d\n",
    "import random\n",
    "import torch\n",
    "import sys\n",
    "from src.param import parse_args\n",
    "import src.models as models\n",
    "from src.utils.data import normalize_pc\n",
    "from src.utils.misc import load_config\n",
    "from huggingface_hub import hf_hub_download\n",
    "from collections import OrderedDict\n",
    "import open_clip\n",
    "import re\n",
    "from PIL import Image\n",
    "import torch.nn.functional as F"
   ]
  },
  {
   "cell_type": "code",
   "execution_count": 4,
   "metadata": {},
   "outputs": [],
   "source": [
    "def load_pcd(pcd, num_points=10000, y_up=True):\n",
    "    #pcd = o3d.io.read_point_cloud(file_name)\n",
    "    xyz = np.asarray(pcd.points)\n",
    "    rgb = np.asarray(pcd.colors)\n",
    "    n = xyz.shape[0]\n",
    "    if n != num_points:\n",
    "        idx = random.sample(range(n), num_points)\n",
    "        xyz = xyz[idx]\n",
    "        rgb = rgb[idx]\n",
    "    if y_up:\n",
    "        # swap y and z axis\n",
    "        xyz[:, [1, 2]] = xyz[:, [2, 1]]\n",
    "    xyz = normalize_pc(xyz)\n",
    "    if rgb is None:\n",
    "        rgb = np.ones_like(rgb) * 0.4\n",
    "    features = np.concatenate([xyz, rgb], axis=1)\n",
    "    xyz = torch.from_numpy(xyz).type(torch.float32)\n",
    "    print(xyz)\n",
    "    features = torch.from_numpy(features).type(torch.float32)\n",
    "    return torch.stack([xyz]).float(), torch.stack([features]).cuda()"
   ]
  },
  {
   "cell_type": "code",
   "execution_count": null,
   "metadata": {},
   "outputs": [],
   "source": [
    "def load_model(config, model_name=\"OpenShape/openshape-pointbert-vitg14-rgb\"):\n",
    "    model = models.make(config).cuda()\n",
    "\n",
    "    model = torch.nn.SyncBatchNorm.convert_sync_batchnorm(model)\n",
    "\n",
    "    checkpoint = torch.load(hf_hub_download(repo_id=model_name, filename=\"model.pt\"))\n",
    "    model_dict = OrderedDict()\n",
    "    pattern = re.compile('module.')\n",
    "    for k,v in checkpoint['state_dict'].items():\n",
    "        if re.search(\"module\", k):\n",
    "            model_dict[re.sub(pattern, '', k)] = v\n",
    "    model.load_state_dict(model_dict)\n",
    "    return model"
   ]
  },
  {
   "cell_type": "code",
   "execution_count": null,
   "metadata": {},
   "outputs": [],
   "source": [
    "@torch.no_grad()\n",
    "def extract_text_feat(texts, clip_model,):\n",
    "    text_tokens = open_clip.tokenizer.tokenize(texts).cuda()\n",
    "    return clip_model.encode_text(text_tokens)"
   ]
  },
  {
   "cell_type": "code",
   "execution_count": null,
   "metadata": {},
   "outputs": [],
   "source": [
    "def class_probs(pcd):\n",
    "    print(\"loading OpenShape model...\")\n",
    "    cli_args, extras = parse_args(sys.argv[1:])\n",
    "    config = load_config(\"src/configs/train.yaml\", cli_args = vars(cli_args), extra_args = extras)\n",
    "    model = load_model(config)\n",
    "    model.eval()\n",
    "\n",
    "    open_clip_model, _, open_clip_preprocess = open_clip.create_model_and_transforms('ViT-bigG-14', pretrained='laion2b_s39b_b160k', cache_dir=\"/kaiming-fast-vol/workspace/open_clip_model/\")\n",
    "    open_clip_model.cuda().eval()\n",
    "\n",
    "    xyz, feat = load_pcd(pcd)\n",
    "    shape_feat = model(xyz, feat, device='cuda', quantization_size=config.model.voxel_size) \n",
    "\n",
    "    texts = [\"chair\", \"shelf\", \"door\", \"sink\", \"sofa\", \"bed\", \"toilet\", \"desk\", \"display\", \"table\"]\n",
    "    text_feat = extract_text_feat(texts, open_clip_model)\n",
    "    scores = F.normalize(shape_feat, dim=1) @ F.normalize(text_feat, dim=1).T\n",
    "    return F.softmax(scores)"
   ]
  }
 ],
 "metadata": {
  "kernelspec": {
   "display_name": "Python 3",
   "language": "python",
   "name": "python3"
  },
  "language_info": {
   "codemirror_mode": {
    "name": "ipython",
    "version": 3
   },
   "file_extension": ".py",
   "mimetype": "text/x-python",
   "name": "python",
   "nbconvert_exporter": "python",
   "pygments_lexer": "ipython3",
   "version": "3.10.11"
  }
 },
 "nbformat": 4,
 "nbformat_minor": 2
}
